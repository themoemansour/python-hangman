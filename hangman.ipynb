{
  "nbformat": 4,
  "nbformat_minor": 0,
  "metadata": {
    "colab": {
      "provenance": []
    },
    "kernelspec": {
      "name": "python3",
      "display_name": "Python 3"
    },
    "language_info": {
      "name": "python"
    }
  },
  "cells": [
    {
      "cell_type": "code",
      "execution_count": 2,
      "metadata": {
        "id": "WP4Fz_iCBGTV",
        "colab": {
          "base_uri": "https://localhost:8080/"
        },
        "outputId": "51045fbf-f59b-4286-f4b7-51807d35f2d2"
      },
      "outputs": [
        {
          "output_type": "stream",
          "name": "stdout",
          "text": [
            "Choose a category (countries/cities): cities\n",
            "m-----\n",
            "Guess a letter: moscow\n",
            "Please enter a single valid letter.\n",
            "Guess a letter: m\n",
            "m is in the word!\n",
            "m-----\n",
            "Guess a letter: o\n",
            "o is in the word!\n",
            "mo--o-\n",
            "Guess a letter: s\n",
            "s is in the word!\n",
            "mos-o-\n",
            "Guess a letter: c\n",
            "c is in the word!\n",
            "mosco-\n",
            "Guess a letter: a\n",
            "Wrong guess! You are allowed 4 more mistakes.\n",
            "Guess a letter: r\n",
            "Wrong guess! You are allowed 3 more mistakes.\n",
            "Guess a letter: e\n",
            "Wrong guess! You are allowed 2 more mistakes.\n",
            "Guess a letter: o\n",
            "You already guessed that letter!\n",
            "Guess a letter: w\n",
            "w is in the word!\n",
            "moscow\n",
            "You won!\n"
          ]
        }
      ],
      "source": [
        "import random\n",
        "\n",
        "dictionary = {\n",
        "    \"countries\": [\"france\", \"russia\", \"slovenia\", \"usa\", \"bulgaria\", \"china\", \"germany\", \"brazil\", \"canada\", \"india\", \"japan\", \"australia\", \"mexico\", \"italy\", \"spain\"],\n",
        "    \"cities\": [\"paris\", \"moscow\", \"ljubljana\", \"newyork\", \"sofia\", \"beijing\", \"berlin\", \"rio\", \"toronto\", \"mumbai\", \"tokyo\", \"sydney\", \"mexicocity\", \"rome\", \"madrid\"]\n",
        "}\n",
        "\n",
        "category = \"\"\n",
        "while category not in dictionary:\n",
        "    category = input(\"Choose a category (countries/cities): \").lower()\n",
        "\n",
        "word_to_play = random.choice(dictionary[category])\n",
        "number_of_letters = len(word_to_play)\n",
        "\n",
        "# Show the first letter and replace other letters with '-'\n",
        "word_to_show = word_to_play[0] + '-' * (number_of_letters - 1)\n",
        "print(word_to_show)\n",
        "\n",
        "allowed_errors = 5\n",
        "guessed_letters = set()\n",
        "\n",
        "while True:\n",
        "    if '-' not in word_to_show:\n",
        "        print(\"You won!\")\n",
        "        break\n",
        "\n",
        "    if allowed_errors == 0:\n",
        "        print(\"You lost! The word was:\", word_to_play)\n",
        "        break\n",
        "\n",
        "    letter = input(\"Guess a letter: \").lower()\n",
        "\n",
        "    if len(letter) != 1 or not letter.isalpha():\n",
        "        print(\"Please enter a single valid letter.\")\n",
        "        continue\n",
        "\n",
        "    if letter in guessed_letters:\n",
        "        print(\"You already guessed that letter!\")\n",
        "        continue\n",
        "\n",
        "    guessed_letters.add(letter)\n",
        "\n",
        "    if letter in word_to_play:\n",
        "        print(letter + \" is in the word!\")\n",
        "        new_word = \"\"\n",
        "        for index in range(number_of_letters):\n",
        "            if word_to_play[index] == letter or word_to_play[index] == word_to_play[0]:\n",
        "                new_word += word_to_play[index]\n",
        "            else:\n",
        "                new_word += word_to_show[index]\n",
        "        word_to_show = new_word\n",
        "        print(word_to_show)\n",
        "    else:\n",
        "        allowed_errors -= 1\n",
        "        print(\"Wrong guess! You are allowed\", allowed_errors, \"more mistakes.\")\n"
      ]
    }
  ]
}